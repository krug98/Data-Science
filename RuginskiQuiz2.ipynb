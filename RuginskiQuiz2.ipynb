{
  "nbformat": 4,
  "nbformat_minor": 0,
  "metadata": {
    "colab": {
      "name": "RuginskiQuiz2.ipynb",
      "provenance": [],
      "include_colab_link": true
    },
    "kernelspec": {
      "display_name": "Python 3",
      "language": "python",
      "name": "python3"
    },
    "language_info": {
      "codemirror_mode": {
        "name": "ipython",
        "version": 3
      },
      "file_extension": ".py",
      "mimetype": "text/x-python",
      "name": "python",
      "nbconvert_exporter": "python",
      "pygments_lexer": "ipython3",
      "version": "3.7.6"
    }
  },
  "cells": [
    {
      "cell_type": "markdown",
      "metadata": {
        "id": "view-in-github",
        "colab_type": "text"
      },
      "source": [
        "<a href=\"https://colab.research.google.com/github/krug98/Data-Science/blob/master/RuginskiQuiz2.ipynb\" target=\"_parent\"><img src=\"https://colab.research.google.com/assets/colab-badge.svg\" alt=\"Open In Colab\"/></a>"
      ]
    },
    {
      "cell_type": "markdown",
      "metadata": {
        "colab_type": "text",
        "id": "W5tFk5I4V5um"
      },
      "source": [
        "# **Quiz 2: Basic Python**\n",
        "\n",
        "**Prepared by**: Dr. Hum Nath Bhandari\n",
        "\n",
        "**Institution**: Departement  of Mathematics, RWU\n",
        "\n",
        "**Due**: Sep 07, before midnight.\n",
        "\n",
        "**Name**: Kyle Ruginski\n",
        "\n",
        "\n",
        "## **Learning Outcomes**:\n",
        "The following are the kay learning outcomes from this quiz.\n",
        "\n",
        "- Printing in basic python.\n",
        "- Wroking with loop such as **for loop** and  **while loop**.\n",
        "\n",
        "- Working with random numbers generators.\n",
        "\n",
        "- Implementing **list** and **dictionary** objects.\n",
        "\n",
        "- Getting user inputs.\n",
        "\n",
        "- Working with conditionals, chained and nested conditionals.\n",
        "\n",
        "- Creating and applying user defined functions."
      ]
    },
    {
      "cell_type": "markdown",
      "metadata": {
        "colab_type": "text",
        "id": "2FjykNv043AQ"
      },
      "source": [
        "## **Instructions:**\n",
        "\n",
        "- Download this file from Bridges.\n",
        "\n",
        "- Save the file into your local computer inside Data Science folder. \n",
        "\n",
        "- Open the file from jupyter and solve the following questions using basic python functionality. You can use Jupyter notebook in your local machine.\n",
        "\n",
        "- Once you are done, upload your final product on Bridges. You should upload both original notebook and corresponding html document.\n",
        "\n",
        "- I recommend to save a copy in your google drive.\n",
        "\n",
        "- You can complete the quiz by using Google Colab if you prefer this option.\n",
        "\n",
        "\n"
      ]
    },
    {
      "cell_type": "markdown",
      "metadata": {
        "colab_type": "text",
        "id": "vWvWIbSvQbax"
      },
      "source": [
        "**Question 1:** Write a python program which prints the evan numbers between 0 to 100 (inclusive)."
      ]
    },
    {
      "cell_type": "code",
      "metadata": {
        "colab_type": "code",
        "id": "XhDfvanvQ3jB",
        "colab": {}
      },
      "source": [
        "for i in range (0, 101, 2):\n",
        "    print (i)"
      ],
      "execution_count": null,
      "outputs": []
    },
    {
      "cell_type": "markdown",
      "metadata": {
        "colab_type": "text",
        "id": "VZbgrf1-Q8cN"
      },
      "source": [
        "\n",
        "**Question 2**: Construct  a list of 10 random integers which are in between 1 and 20. Print the first 5 numbers from the list.\n",
        "\n",
        "**Hint:**\n",
        "\n",
        "- Import necessary libraries.\n",
        "- Create a variable with the name **my_list** starting from empty list.\n",
        "- Use either **for** or **while** loop to fill the **my_list** using **append()** function.\n",
        "    \n",
        "- Print the first 5 random integers from the **my_list**.\n",
        "\n"
      ]
    },
    {
      "cell_type": "code",
      "metadata": {
        "colab_type": "code",
        "id": "lZ2nWEN-Rgny",
        "colab": {}
      },
      "source": [
        "import random as r\n",
        "my_list=[]\n",
        "for i in range(1,11):\n",
        "  x=r.randint(1,20)\n",
        "  my_list.append(x)\n",
        "print (my_list[0:5])\n",
        "\n",
        "print (my_list) # Prints unedited list"
      ],
      "execution_count": null,
      "outputs": []
    },
    {
      "cell_type": "markdown",
      "metadata": {
        "colab_type": "text",
        "id": "gCY4WQtCRr2G"
      },
      "source": [
        "\n",
        "\n",
        "**Question 3**: Write a phython program to perform the following tasks.\n",
        "\n",
        "- It should ask user to enter a valid grade percentage from 0 to 100.\n",
        "\n",
        "- You should write a function which takes grade percentage as an argument and produces letter grade as an output. See your **Data Science Syllabus** as a reference for grade distributions.\n",
        "\n",
        "- You should use **print()** function and **comments** at least once in your program.\n",
        "\n",
        "\n",
        "Now run the program for the following inputs.\n",
        "\n",
        "1. 96\n",
        "2. 76\n",
        "3. 45\n",
        "\n"
      ]
    },
    {
      "cell_type": "code",
      "metadata": {
        "id": "o9ZXfQsGguQa",
        "colab_type": "code",
        "colab": {}
      },
      "source": [
        "grade=input(\"Enter grade pecentage 0-100: \") # Asks user to input valid grade percentage, conditional statements output letter grade\n",
        "if int(grade) >= 93:\n",
        "  print(\"You've earned an A in Data Science\")\n",
        "elif int(grade) >= 90:\n",
        "  print(\"You've earned an A- in Data Science\")\n",
        "elif int(grade) >= 87:\n",
        "  print(\"You've earned a B+ in Data Science\")\n",
        "elif int(grade) >= 83:\n",
        "  print(\"You've earned a B in Data Science\")\n",
        "elif int(grade) >= 80:\n",
        "  print(\"You've earned a B- in Data Science\")\n",
        "elif int(grade) >= 77:\n",
        "  print(\"You've earned a C+ in Data Science\")\n",
        "elif int(grade) >= 73:\n",
        "  print(\"You've earned a C in Data Science\")\n",
        "elif int(grade) >= 70:\n",
        "  print(\"You've earned a C- in Data Science\")\n",
        "elif int(grade) >= 67:\n",
        "  print(\"You've earned a D+ in Data Science\")\n",
        "elif int(grade) >= 63:\n",
        "  print(\"You've earned a D in Data Science\")\n",
        "elif int(grade) >= 60:\n",
        "  print(\"You've earned a D- in Data Science\")\n",
        "else:\n",
        "  print(\"You've earned an F in Data Science\")"
      ],
      "execution_count": null,
      "outputs": []
    },
    {
      "cell_type": "markdown",
      "metadata": {
        "colab_type": "text",
        "id": "r23dcGWUV5up"
      },
      "source": [
        "**Question 4**: Create a list, called, **students**, consisting name of five students (only first name is fine). These names can be your friend's names or any hypothetical names.\n"
      ]
    },
    {
      "cell_type": "code",
      "metadata": {
        "colab_type": "code",
        "id": "3xvQMbFGV5us",
        "colab": {}
      },
      "source": [
        "students=[\"Kat\",\"Adam\",\"Lucas\",\"Justin\",\"Ashley\"]"
      ],
      "execution_count": 20,
      "outputs": []
    },
    {
      "cell_type": "markdown",
      "metadata": {
        "colab_type": "text",
        "id": "4FOH4VVMV5vO"
      },
      "source": [
        "**Question 5**: Create another list, called, **grades**, consisting some hypothetical percentage grade scores ranging from 0 to 100.\n"
      ]
    },
    {
      "cell_type": "code",
      "metadata": {
        "colab_type": "code",
        "id": "td1M16fXV5vT",
        "colab": {}
      },
      "source": [
        "grades=[95,82,68,76,90]"
      ],
      "execution_count": 21,
      "outputs": []
    },
    {
      "cell_type": "markdown",
      "metadata": {
        "colab_type": "text",
        "id": "9sEG8mxNV5vj"
      },
      "source": [
        "**Question 6**: Now, create a dictionary, called **exam_grade**, by combining two lists (**students** and **grades**) using **zip()** function. Display the dictionary.\n",
        "    \n"
      ]
    },
    {
      "cell_type": "code",
      "metadata": {
        "colab_type": "code",
        "id": "XcSbCvmhSZcW",
        "colab": {}
      },
      "source": [
        "exam_grade=dict(zip(students,grades))\n",
        "print(exam_grade)\n"
      ],
      "execution_count": null,
      "outputs": []
    },
    {
      "cell_type": "markdown",
      "metadata": {
        "colab_type": "text",
        "id": "243a8OUoV5v1"
      },
      "source": [
        "**Question 7**: Display/print keys and values of **exam_grade** ditionary.\n",
        "    \n",
        "\n"
      ]
    },
    {
      "cell_type": "code",
      "metadata": {
        "colab_type": "code",
        "id": "wFkpZsF9V5wI",
        "colab": {}
      },
      "source": [
        "print(exam_grade.keys())\n",
        "print(exam_grade.values())"
      ],
      "execution_count": null,
      "outputs": []
    },
    {
      "cell_type": "markdown",
      "metadata": {
        "colab_type": "text",
        "id": "ZdVEDN_-V5wl"
      },
      "source": [
        "**Question 8**: Use python **for** loop to print keys and corresponding values of **exam_grade** dictionary."
      ]
    },
    {
      "cell_type": "code",
      "metadata": {
        "colab_type": "code",
        "id": "glTle6ub8hoa",
        "colab": {}
      },
      "source": [
        "for k,v in exam_grade.items():\n",
        "  print (k,v)"
      ],
      "execution_count": null,
      "outputs": []
    },
    {
      "cell_type": "markdown",
      "metadata": {
        "colab_type": "text",
        "id": "YrIrX7xz8W1i"
      },
      "source": [
        "**Question 9**: Extract one of the keys from your **exam_grade** dictionary and modify it by assigning different value.\n"
      ]
    },
    {
      "cell_type": "code",
      "metadata": {
        "colab_type": "code",
        "id": "FXdNB9Rz9Jdb",
        "colab": {}
      },
      "source": [
        "exam_grade[\"Lucas\"]= 87\n",
        "print(exam_grade)"
      ],
      "execution_count": null,
      "outputs": []
    },
    {
      "cell_type": "markdown",
      "metadata": {
        "colab_type": "text",
        "id": "4rmO9osATDCA"
      },
      "source": [
        " **Question 10**:  Write a program which performs the following tasks.\n",
        "\n",
        "- Takes principal (P) in USD, interest rate (R) in percentage, and time (T) in years from users.\n",
        "\n",
        "- Computes simple interest (I)  by using the following formula  \n",
        "   $$I=\\frac{PRT}{100}$$\n",
        "\n",
        "- Produces simple interest as an output. Use print() function while producing results.\n",
        "\n",
        "Now, run the program for the following inputs.\n",
        "\n",
        "  1. P = $5000, R = 8\\%, T = 5 years\n",
        "\n",
        "  2. P = $10000, R = 3\\%, T = 4 years\n"
      ]
    },
    {
      "cell_type": "code",
      "metadata": {
        "colab_type": "code",
        "id": "xyc30psWV5wn",
        "colab": {}
      },
      "source": [
        "P=input(\"Enter principal in USD: \")\n",
        "R=input(\"Enter input rate in percentage: \")\n",
        "T=input(\"Enter time in years: \")\n",
        "I=(int(P)*int(R)*int(T))/100\n",
        "print (\"The simple interest is: $\",I)"
      ],
      "execution_count": null,
      "outputs": []
    }
  ]
}