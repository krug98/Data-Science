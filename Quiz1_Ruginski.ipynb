{
  "nbformat": 4,
  "nbformat_minor": 0,
  "metadata": {
    "colab": {
      "name": "Quiz1.ipynb",
      "provenance": [],
      "collapsed_sections": [],
      "include_colab_link": true
    },
    "kernelspec": {
      "display_name": "Python 3",
      "language": "python",
      "name": "python3"
    },
    "language_info": {
      "codemirror_mode": {
        "name": "ipython",
        "version": 3
      },
      "file_extension": ".py",
      "mimetype": "text/x-python",
      "name": "python",
      "nbconvert_exporter": "python",
      "pygments_lexer": "ipython3",
      "version": "3.8.3"
    }
  },
  "cells": [
    {
      "cell_type": "markdown",
      "metadata": {
        "id": "view-in-github",
        "colab_type": "text"
      },
      "source": [
        "<a href=\"https://colab.research.google.com/github/krug98/Data-Science/blob/master/Quiz1_Ruginski.ipynb\" target=\"_parent\"><img src=\"https://colab.research.google.com/assets/colab-badge.svg\" alt=\"Open In Colab\"/></a>"
      ]
    },
    {
      "cell_type": "markdown",
      "metadata": {
        "colab_type": "text",
        "id": "cT99hSTLhYRq"
      },
      "source": [
        "# **Quiz 1: Data Science Toolbox**\n",
        "\n",
        "**Prepared by**: Dr. Hum Nath Bhandari\n",
        "\n",
        "**Institution**: Roger Williams University\n",
        "\n",
        "**Department**: Mathematics Department\n",
        "\n",
        "**Student Name**: Kyle Ruginski\n",
        "\n",
        "\n",
        "\n",
        "### **Learning Outcome**\n",
        "\n",
        "In this quiz you will be tested for your understanding of software installations and files management.\n",
        "\n",
        "\n",
        "\n",
        "\n",
        "\n"
      ]
    },
    {
      "cell_type": "markdown",
      "metadata": {
        "colab_type": "text",
        "id": "f6f0xQEGgIiR"
      },
      "source": [
        ""
      ]
    },
    {
      "cell_type": "markdown",
      "metadata": {
        "colab_type": "text",
        "id": "sxlexYASjWX0"
      },
      "source": [
        "**Question 1**: \n",
        "- Download this Quiz and save into your local machine inside **Data Science** folder (you created this folder during my class). \n",
        "- Open the Quiz by using Jupyter notebook (Jupyter comes with anaconda installation). \n",
        "- Complete the first cell of this notebook by writing your name. \n"
      ]
    },
    {
      "cell_type": "code",
      "metadata": {
        "colab_type": "code",
        "id": "l8IrmDgE5pER",
        "colab": {},
        "outputId": "f09e4987-4f71-41d5-b23c-0cc34601a576"
      },
      "source": [
        "Kyle Ruginski"
      ],
      "execution_count": null,
      "outputs": [
        {
          "output_type": "error",
          "ename": "SyntaxError",
          "evalue": "invalid syntax (<ipython-input-1-7119c19eb1ce>, line 1)",
          "traceback": [
            "\u001b[0;36m  File \u001b[0;32m\"<ipython-input-1-7119c19eb1ce>\"\u001b[0;36m, line \u001b[0;32m1\u001b[0m\n\u001b[0;31m    Kyle Ruginski\u001b[0m\n\u001b[0m         ^\u001b[0m\n\u001b[0;31mSyntaxError\u001b[0m\u001b[0;31m:\u001b[0m invalid syntax\n"
          ]
        }
      ]
    },
    {
      "cell_type": "markdown",
      "metadata": {
        "colab_type": "text",
        "id": "B4XeFkUt0VL0"
      },
      "source": [
        "**Question 2**: Write a **Hello world** python program  below.  "
      ]
    },
    {
      "cell_type": "code",
      "metadata": {
        "colab_type": "code",
        "id": "CHMgPHgp10eC",
        "colab": {},
        "outputId": "da9c8b55-93b3-48b9-9169-545b1e273c85"
      },
      "source": [
        "print ('Hello world')"
      ],
      "execution_count": null,
      "outputs": [
        {
          "output_type": "stream",
          "text": [
            "Hello world\n"
          ],
          "name": "stdout"
        }
      ]
    },
    {
      "cell_type": "markdown",
      "metadata": {
        "colab_type": "text",
        "id": "nzT-Pb7P1JYo"
      },
      "source": [
        "**Question 3**: Create a python script file, called **my_first_file.py** using editor of spyder and write a python program to print: \"Welcome to data science class!\". Take a screenshot of the result from your program and insert the screenshot picture in the following cell. See [here](https://www.youtube.com/watch?v=Vw1EZh1My8s) for the guidelines of importing picture in notebook.\n"
      ]
    },
    {
      "cell_type": "markdown",
      "metadata": {
        "colab_type": "text",
        "id": "gXw1QQcU2F5S"
      },
      "source": [
        "![](Screen Shot 2020-08-31 at 12.04.07 PM.png)"
      ]
    },
    {
      "cell_type": "markdown",
      "metadata": {
        "colab_type": "text",
        "id": "qLzdZSYqhQ52"
      },
      "source": [
        "**Question 4**: After you are done upto **Question 3**, copy your quiz from your local machine to Google Drive and put into **Data Science** folder (I assume you created this folder based on our discussions in the class). Now open the file using Google Colab. Write a python program below to print: \"Welcome back from Google Colab!\". Provide a link of Colab url below. \n",
        "\n",
        "\n",
        "\n"
      ]
    },
    {
      "cell_type": "code",
      "metadata": {
        "colab_type": "code",
        "id": "v92v3z658gyd",
        "colab": {}
      },
      "source": [
        "print ('Welcome back from Google Colab!')\n",
        "# https://colab.research.google.com/drive/1Y5yG0_4Uqd-VXulLRoKDERNeJnn65fzS#scrollTo=cT99hSTLhYRq"
      ],
      "execution_count": null,
      "outputs": []
    },
    {
      "cell_type": "markdown",
      "metadata": {
        "colab_type": "text",
        "id": "9ZnqFXPw8hk1"
      },
      "source": [
        "**Question 5**: After you are done with **Question 4**, save a copy of this quiz in Github inside **Data \n",
        "Science** folder which you had created based on our class discussion.\n"
      ]
    },
    {
      "cell_type": "code",
      "metadata": {
        "colab_type": "code",
        "id": "J_NeS4oo_1mb",
        "colab": {}
      },
      "source": [
        ""
      ],
      "execution_count": null,
      "outputs": []
    },
    {
      "cell_type": "markdown",
      "metadata": {
        "colab_type": "text",
        "id": "ULgrcXkZ_Dzi"
      },
      "source": [
        "\n",
        "**Question 6**: Provide a GitHub url of this quiz in the following cell. "
      ]
    },
    {
      "cell_type": "code",
      "metadata": {
        "colab_type": "code",
        "id": "hkdbnDUF_8tJ",
        "colab": {}
      },
      "source": [
        ""
      ],
      "execution_count": null,
      "outputs": []
    },
    {
      "cell_type": "markdown",
      "metadata": {
        "colab_type": "text",
        "id": "QSNh2TSUOceZ"
      },
      "source": [
        "**Quiestion 7**: Provide the same GitHub url on bridges."
      ]
    },
    {
      "cell_type": "code",
      "metadata": {
        "colab_type": "code",
        "id": "2RZNArgw7xNy",
        "colab": {}
      },
      "source": [
        ""
      ],
      "execution_count": null,
      "outputs": []
    }
  ]
}